{
 "cells": [
  {
   "cell_type": "markdown",
   "metadata": {},
   "source": [
    "# Python函数式编程--map函数"
   ]
  },
  {
   "cell_type": "code",
   "execution_count": 19,
   "metadata": {},
   "outputs": [
    {
     "name": "stdout",
     "output_type": "stream",
     "text": [
      "list2: [3, 4, 5]\n",
      "list3: [1, 4, 25, 36]\n",
      "list4: [4, 6, 10]\n"
     ]
    }
   ],
   "source": [
    "list1=[1,2,5,6]\n",
    "list2=list(range(3,6))\n",
    "# 等同于：\n",
    "# list2=[x for x in range(3,6)]#列表解析式；\n",
    "#等同于 :\n",
    "# list2=list(map(lambda x:x,range(3,6)))\n",
    "\n",
    "print('list2:',list2)\n",
    "#lambda 匿名函数，不用定义函数名字，方便使用\n",
    "list3=map(lambda x : x*x,list1)#map函数返回的是一个iterators\n",
    "list3=list(list3)\n",
    "\n",
    "list4=list(map(lambda x,y:x+y,list1,list2))#两个列表中的元素取公共的前n个元素，对应相加\n",
    "print('list3:',list3)\n",
    "print('list4:',list4)\n"
   ]
  },
  {
   "cell_type": "markdown",
   "metadata": {},
   "source": [
    "###### 总结：列表解析式原理上还是Python的for命令，\n",
    "###### map函数实现相同的功能效率更高，速度更快，速度相当于C语言"
   ]
  },
  {
   "cell_type": "markdown",
   "metadata": {},
   "source": [
    "map(func, seq1[, seq2,…]) \n",
    "第一个参数接受一个函数名，后面的参数接受一个或多个可迭代的序列，返回的是一个可迭代对象iterators。 \n",
    "Python函数编程中的map()函数是将func作用于seq中的每一个元素，并将所有的调用的结果作为一个list返回。如果func为None，作用同zip()。"
   ]
  },
  {
   "cell_type": "markdown",
   "metadata": {},
   "source": [
    "1、当seq只有一个时，将函数func作用于这个seq的每个元素上，并得到一个新的seq。 \n",
    "2、当seq多于一个时，map可以并行（注意是并行）地对每个seq执行\n",
    "参考https://blog.csdn.net/SeeTheWorld518/article/details/46959871"
   ]
  },
  {
   "cell_type": "markdown",
   "metadata": {},
   "source": [
    "# map的应用举例"
   ]
  },
  {
   "cell_type": "code",
   "execution_count": 20,
   "metadata": {},
   "outputs": [
    {
     "name": "stdout",
     "output_type": "stream",
     "text": [
      "[(3, 4), (16, 6), (25, 7)]\n"
     ]
    }
   ],
   "source": [
    "Iter=map(lambda x,y:(x**y,x+y),[3,2,5],[1,4,2])\n",
    "print(list(Iter))"
   ]
  },
  {
   "cell_type": "code",
   "execution_count": 32,
   "metadata": {},
   "outputs": [
    {
     "name": "stdout",
     "output_type": "stream",
     "text": [
      "[1, 2, 3, 4]\n"
     ]
    }
   ],
   "source": [
    "# 元组转list\n",
    "print(list(map(int,(1,2,3,4))))"
   ]
  },
  {
   "cell_type": "code",
   "execution_count": 33,
   "metadata": {},
   "outputs": [
    {
     "name": "stdout",
     "output_type": "stream",
     "text": [
      "[1, 2, 2, 5, 9, 8, 7]\n"
     ]
    }
   ],
   "source": [
    "# 数字字符串转list\n",
    "print(list(map(int,'1225987')))"
   ]
  },
  {
   "cell_type": "code",
   "execution_count": 35,
   "metadata": {},
   "outputs": [
    {
     "name": "stdout",
     "output_type": "stream",
     "text": [
      "[1, 2, 3]\n"
     ]
    }
   ],
   "source": [
    "# 把字典的keys提取出来转成list\n",
    "dic={'1':'a','2':'b',3:'c'}\n",
    "print(list(map(int,dic.keys())))"
   ]
  },
  {
   "cell_type": "code",
   "execution_count": 36,
   "metadata": {},
   "outputs": [
    {
     "data": {
      "text/plain": [
       "[('a',), ('g',), ('d',), ('f',), ('s',), ('h',)]"
      ]
     },
     "execution_count": 36,
     "metadata": {},
     "output_type": "execute_result"
    }
   ],
   "source": [
    "#字符串转换成元组，并将结果以列表的形式返回\n",
    "list(map(tuple, 'agdfsh'))"
   ]
  },
  {
   "cell_type": "code",
   "execution_count": 40,
   "metadata": {},
   "outputs": [
    {
     "data": {
      "text/plain": [
       "['A', 'S', 'S', 'S', 'F', 'S', 'D', 'F', 'S']"
      ]
     },
     "execution_count": 40,
     "metadata": {},
     "output_type": "execute_result"
    }
   ],
   "source": [
    "#英文字母小写转大写\n",
    "def lower_to_upper(x):\n",
    "    return x.upper()\n",
    "# list(map(lower_to_upper,'abscssd'))\n",
    "# 或者 \n",
    "list(map(lambda x:x.upper(),'asssfsdfs'))"
   ]
  },
  {
   "cell_type": "code",
   "execution_count": null,
   "metadata": {
    "collapsed": true
   },
   "outputs": [],
   "source": []
  }
 ],
 "metadata": {
  "celltoolbar": "Raw Cell Format",
  "kernelspec": {
   "display_name": "Python 3",
   "language": "python",
   "name": "python3"
  },
  "language_info": {
   "codemirror_mode": {
    "name": "ipython",
    "version": 3
   },
   "file_extension": ".py",
   "mimetype": "text/x-python",
   "name": "python",
   "nbconvert_exporter": "python",
   "pygments_lexer": "ipython3",
   "version": "3.6.2"
  }
 },
 "nbformat": 4,
 "nbformat_minor": 2
}
